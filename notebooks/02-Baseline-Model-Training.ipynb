{
 "cells": [
  {
   "cell_type": "markdown",
   "metadata": {},
   "source": [
    "# Notebook 2: Baseline Model Training (Isolation Forest)\n",
    "\n",
    "### Objective\n",
    "The purpose of this notebook is to train, evaluate, and save a baseline anomaly detection model. We will use the `IsolationForest` algorithm from scikit-learn as our first model.\n",
    "\n",
    "### Why Isolation Forest?\n",
    "Isolation Forest is an excellent choice for a baseline model because it is computationally efficient and performs well on this type of \"obvious spike\" anomaly. It is an unsupervised algorithm that works by \"isolating\" observations, and it inherently identifies anomalies as data points that are easier to separate from the rest of the sample.\n",
    "\n",
    "### Key Steps\n",
    "1.  **Setup**: Import libraries and configure paths.\n",
    "2.  **Data Loading**: Load the prepared dataset.\n",
    "3.  **Feature Selection**: Select the feature(s) to be used for training.\n",
    "4.  **Model Training**: Train the `IsolationForest` model.\n",
    "5.  **Evaluation**: Evaluate the model's performance against our known labels.\n",
    "6.  **Model Serialization**: Save the trained model to a file for later use in our API.\n",
    "\n",
    "### Expected Outcome\n",
    "A trained `IsolationForest` model saved as a `.joblib` file and a performance report detailing its effectiveness at identifying the anomalies in our dataset."
   ]
  },
  {
   "cell_type": "code",
   "execution_count": null,
   "metadata": {},
   "outputs": [],
   "source": [
    "import pandas as pd\n",
    "import numpy as np\n",
    "import json\n",
    "import os\n",
    "import joblib\n",
    "\n",
    "from sklearn.ensemble import IsolationForest\n",
    "from sklearn.metrics import classification_report, confusion_matrix, ConfusionMatrixDisplay\n",
    "import matplotlib.pyplot as plt\n",
    "import seaborn as sns\n",
    "\n",
    "sns.set_style(\"whitegrid\")\n",
    "plt.rcParams[\"figure.figsize\"] = (18, 6)\n",
    "\n",
    "# --- Path Configuration ---\n",
    "BASE_DIR = \"..\"\n",
    "DATA_ROOT_DIR = os.path.join(BASE_DIR, \"data/raw/NAB-master\")\n",
    "MODELS_DIR = os.path.join(BASE_DIR, \"models\")\n",
    "os.makedirs(MODELS_DIR, exist_ok=True)\n",
    "\n",
    "# --- Dataset Selection (consistent with Notebook 1) ---\n",
    "DATASET_NAME = \"realAWSCloudwatch/ec2_cpu_utilization_24ae8d.csv\"\n",
    "LABELS_FILE = \"labels/combined_labels.json\"\n",
    "\n",
    "data_path = os.path.join(DATA_ROOT_DIR, \"data\", DATASET_NAME)\n",
    "label_path = os.path.join(DATA_ROOT_DIR, LABELS_FILE)\n",
    "\n",
    "print(\"Configuration completed\")"
   ]
  }
 ],
 "metadata": {
  "language_info": {
   "name": "python"
  }
 },
 "nbformat": 4,
 "nbformat_minor": 2
}
