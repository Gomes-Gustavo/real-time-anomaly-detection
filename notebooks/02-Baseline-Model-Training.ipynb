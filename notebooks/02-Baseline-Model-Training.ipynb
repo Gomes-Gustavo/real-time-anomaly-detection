{
 "cells": [
  {
   "cell_type": "markdown",
   "metadata": {},
   "source": [
    "# Notebook 2: Baseline Model Training (Isolation Forest)\n",
    "\n",
    "### Objective\n",
    "The purpose of this notebook is to train, evaluate, and save a baseline anomaly detection model. We will use the `IsolationForest` algorithm from scikit-learn as our first model.\n",
    "\n",
    "### Why Isolation Forest?\n",
    "Isolation Forest is an excellent choice for a baseline model because it is computationally efficient and performs well on this type of \"obvious spike\" anomaly. It is an unsupervised algorithm that works by \"isolating\" observations, and it inherently identifies anomalies as data points that are easier to separate from the rest of the sample.\n",
    "\n",
    "### Key Steps\n",
    "1.  **Setup**: Import libraries and configure paths.\n",
    "2.  **Data Loading**: Load the prepared dataset.\n",
    "3.  **Feature Selection**: Select the feature(s) to be used for training.\n",
    "4.  **Model Training**: Train the `IsolationForest` model.\n",
    "5.  **Evaluation**: Evaluate the model's performance against our known labels.\n",
    "6.  **Model Serialization**: Save the trained model to a file for later use in our API.\n",
    "\n",
    "### Expected Outcome\n",
    "A trained `IsolationForest` model saved as a `.joblib` file and a performance report detailing its effectiveness at identifying the anomalies in our dataset."
   ]
  },
  {
   "cell_type": "code",
   "execution_count": 1,
   "metadata": {},
   "outputs": [
    {
     "name": "stdout",
     "output_type": "stream",
     "text": [
      "Configuration completed\n"
     ]
    }
   ],
   "source": [
    "import pandas as pd\n",
    "import numpy as np\n",
    "import json\n",
    "import os\n",
    "import joblib\n",
    "\n",
    "from sklearn.ensemble import IsolationForest\n",
    "from sklearn.metrics import classification_report, confusion_matrix, ConfusionMatrixDisplay\n",
    "import matplotlib.pyplot as plt\n",
    "import seaborn as sns\n",
    "\n",
    "sns.set_style(\"whitegrid\")\n",
    "plt.rcParams[\"figure.figsize\"] = (18, 6)\n",
    "\n",
    "# --- Path Configuration ---\n",
    "BASE_DIR = \"..\"\n",
    "DATA_ROOT_DIR = os.path.join(BASE_DIR, \"data/raw/NAB-master\")\n",
    "MODELS_DIR = os.path.join(BASE_DIR, \"models\")\n",
    "os.makedirs(MODELS_DIR, exist_ok=True)\n",
    "\n",
    "# --- Dataset Selection (consistent with Notebook 1) ---\n",
    "DATASET_NAME = \"realAWSCloudwatch/ec2_cpu_utilization_24ae8d.csv\"\n",
    "LABELS_FILE = \"labels/combined_labels.json\"\n",
    "\n",
    "data_path = os.path.join(DATA_ROOT_DIR, \"data\", DATASET_NAME)\n",
    "label_path = os.path.join(DATA_ROOT_DIR, LABELS_FILE)\n",
    "\n",
    "print(\"Configuration completed\")"
   ]
  },
  {
   "cell_type": "markdown",
   "metadata": {},
   "source": [
    "## Data Loading and Preparation\n",
    "\n",
    "We will repeat the core data loading and preparation steps to ensure this notebook can be run independently. We load the time-series data and integrate the pre-verified anomaly labels."
   ]
  },
  {
   "cell_type": "code",
   "execution_count": 2,
   "metadata": {},
   "outputs": [
    {
     "name": "stdout",
     "output_type": "stream",
     "text": [
      "Data loaded and prepared.\n",
      "Anomaly counts:\n",
      "is_anomaly\n",
      "0    4030\n",
      "1       2\n",
      "Name: count, dtype: int64\n"
     ]
    },
    {
     "data": {
      "text/html": [
       "<div>\n",
       "<style scoped>\n",
       "    .dataframe tbody tr th:only-of-type {\n",
       "        vertical-align: middle;\n",
       "    }\n",
       "\n",
       "    .dataframe tbody tr th {\n",
       "        vertical-align: top;\n",
       "    }\n",
       "\n",
       "    .dataframe thead th {\n",
       "        text-align: right;\n",
       "    }\n",
       "</style>\n",
       "<table border=\"1\" class=\"dataframe\">\n",
       "  <thead>\n",
       "    <tr style=\"text-align: right;\">\n",
       "      <th></th>\n",
       "      <th>value</th>\n",
       "      <th>is_anomaly</th>\n",
       "    </tr>\n",
       "    <tr>\n",
       "      <th>timestamp</th>\n",
       "      <th></th>\n",
       "      <th></th>\n",
       "    </tr>\n",
       "  </thead>\n",
       "  <tbody>\n",
       "    <tr>\n",
       "      <th>2014-02-14 14:30:00</th>\n",
       "      <td>0.132</td>\n",
       "      <td>0</td>\n",
       "    </tr>\n",
       "    <tr>\n",
       "      <th>2014-02-14 14:35:00</th>\n",
       "      <td>0.134</td>\n",
       "      <td>0</td>\n",
       "    </tr>\n",
       "    <tr>\n",
       "      <th>2014-02-14 14:40:00</th>\n",
       "      <td>0.134</td>\n",
       "      <td>0</td>\n",
       "    </tr>\n",
       "    <tr>\n",
       "      <th>2014-02-14 14:45:00</th>\n",
       "      <td>0.134</td>\n",
       "      <td>0</td>\n",
       "    </tr>\n",
       "    <tr>\n",
       "      <th>2014-02-14 14:50:00</th>\n",
       "      <td>0.134</td>\n",
       "      <td>0</td>\n",
       "    </tr>\n",
       "  </tbody>\n",
       "</table>\n",
       "</div>"
      ],
      "text/plain": [
       "                     value  is_anomaly\n",
       "timestamp                             \n",
       "2014-02-14 14:30:00  0.132           0\n",
       "2014-02-14 14:35:00  0.134           0\n",
       "2014-02-14 14:40:00  0.134           0\n",
       "2014-02-14 14:45:00  0.134           0\n",
       "2014-02-14 14:50:00  0.134           0"
      ]
     },
     "metadata": {},
     "output_type": "display_data"
    }
   ],
   "source": [
    "# Load the dataset\n",
    "df = pd.read_csv(data_path, parse_dates=['timestamp'], index_col='timestamp')\n",
    "\n",
    "# Load the labels JSON\n",
    "with open(label_path, 'r') as f:\n",
    "    labels = json.load(f)\n",
    "\n",
    "# Integrate labels into the DataFrame\n",
    "anomaly_timestamp_strings = labels.get(DATASET_NAME, [])\n",
    "anomaly_datetimes = pd.to_datetime(anomaly_timestamp_strings)\n",
    "df['is_anomaly'] = 0\n",
    "anomalies_in_df_index = df.index.intersection(anomaly_datetimes)\n",
    "df.loc[anomalies_in_df_index, 'is_anomaly'] = 1\n",
    "\n",
    "print(\"Data loaded and prepared.\")\n",
    "print(\"Anomaly counts:\")\n",
    "print(df['is_anomaly'].value_counts())\n",
    "display(df.head())"
   ]
  },
  {
   "cell_type": "markdown",
   "metadata": {},
   "source": [
    "## 1.1 Deep Dive into Normal Data Distribution\n",
    "\n",
    "Given the model's high sensitivity in the API, we need to take a closer look at the statistical distribution of the normal data points it was trained on. We will compute descriptive statistics and plot a histogram to understand what the model learned as \"normal\"."
   ]
  },
  {
   "cell_type": "code",
   "execution_count": 3,
   "metadata": {},
   "outputs": [
    {
     "name": "stdout",
     "output_type": "stream",
     "text": [
      "--- Descriptive Statistics for NORMAL data points ---\n"
     ]
    },
    {
     "data": {
      "text/plain": [
       "count    4030.000000\n",
       "mean        0.125635\n",
       "std         0.087844\n",
       "min         0.066000\n",
       "25%         0.132000\n",
       "50%         0.134000\n",
       "75%         0.134000\n",
       "max         1.600000\n",
       "Name: value, dtype: float64"
      ]
     },
     "metadata": {},
     "output_type": "display_data"
    },
    {
     "data": {
      "image/png": "[encoded data removed]",
      "text/plain": [
       "<Figure size 1400x700 with 1 Axes>"
      ]
     },
     "metadata": {},
     "output_type": "display_data"
    }
   ],
   "source": [
    "normal_data = df[df['is_anomaly'] == 0]\n",
    "\n",
    "print(\"--- Descriptive Statistics for NORMAL data points ---\")\n",
    "display(normal_data['value'].describe())\n",
    "\n",
    "plt.figure(figsize=(14, 7))\n",
    "sns.histplot(normal_data['value'], bins=100, kde=True)\n",
    "plt.title('Distribution of Normal CPU Utilization Values', fontsize=16)\n",
    "plt.xlabel('CPU Utilization (%)', fontsize=12)\n",
    "plt.ylabel('Frequency (Count of data points)', fontsize=12)\n",
    "plt.grid(True)\n",
    "plt.show()"
   ]
  },
  {
   "cell_type": "markdown",
   "metadata": {},
   "source": [
    "## Feature Selection\n",
    "\n",
    "For our baseline model, we will use the most direct feature available: the CPU utilization `value` itself. The `IsolationForest` algorithm is well-suited to handle this single feature to find points that are numerically distant from the majority.\n",
    "\n",
    "In more complex models (like LSTMs or other deep learning approaches), we would perform feature engineering to create additional features, such as:\n",
    "- Rolling averages (e.g., the average value over the last 10 minutes)\n",
    "- Lagged values (e.g., the value from 5 minutes ago)\n",
    "\n",
    "For now, keeping it simple allows us to establish a clear and interpretable baseline. We will create our feature matrix `X` (containing the input for the model) and our target vector `y_true` (containing the ground truth labels for evaluation)."
   ]
  },
  {
   "cell_type": "code",
   "execution_count": 4,
   "metadata": {},
   "outputs": [
    {
     "name": "stdout",
     "output_type": "stream",
     "text": [
      "Feature matrix X created.\n",
      "Shape of X: (4032, 1)\n"
     ]
    },
    {
     "data": {
      "text/html": [
       "<div>\n",
       "<style scoped>\n",
       "    .dataframe tbody tr th:only-of-type {\n",
       "        vertical-align: middle;\n",
       "    }\n",
       "\n",
       "    .dataframe tbody tr th {\n",
       "        vertical-align: top;\n",
       "    }\n",
       "\n",
       "    .dataframe thead th {\n",
       "        text-align: right;\n",
       "    }\n",
       "</style>\n",
       "<table border=\"1\" class=\"dataframe\">\n",
       "  <thead>\n",
       "    <tr style=\"text-align: right;\">\n",
       "      <th></th>\n",
       "      <th>value</th>\n",
       "    </tr>\n",
       "    <tr>\n",
       "      <th>timestamp</th>\n",
       "      <th></th>\n",
       "    </tr>\n",
       "  </thead>\n",
       "  <tbody>\n",
       "    <tr>\n",
       "      <th>2014-02-14 14:30:00</th>\n",
       "      <td>0.132</td>\n",
       "    </tr>\n",
       "    <tr>\n",
       "      <th>2014-02-14 14:35:00</th>\n",
       "      <td>0.134</td>\n",
       "    </tr>\n",
       "    <tr>\n",
       "      <th>2014-02-14 14:40:00</th>\n",
       "      <td>0.134</td>\n",
       "    </tr>\n",
       "    <tr>\n",
       "      <th>2014-02-14 14:45:00</th>\n",
       "      <td>0.134</td>\n",
       "    </tr>\n",
       "    <tr>\n",
       "      <th>2014-02-14 14:50:00</th>\n",
       "      <td>0.134</td>\n",
       "    </tr>\n",
       "  </tbody>\n",
       "</table>\n",
       "</div>"
      ],
      "text/plain": [
       "                     value\n",
       "timestamp                 \n",
       "2014-02-14 14:30:00  0.132\n",
       "2014-02-14 14:35:00  0.134\n",
       "2014-02-14 14:40:00  0.134\n",
       "2014-02-14 14:45:00  0.134\n",
       "2014-02-14 14:50:00  0.134"
      ]
     },
     "metadata": {},
     "output_type": "display_data"
    }
   ],
   "source": [
    "# Select the feature(s) for the model\n",
    "features = ['value']\n",
    "X = df[features]\n",
    "\n",
    "# This is our ground truth for evaluation later. The model itself does not use this for training.\n",
    "y_true = df['is_anomaly']\n",
    "\n",
    "print(\"Feature matrix X created.\")\n",
    "print(f\"Shape of X: {X.shape}\")\n",
    "display(X.head())"
   ]
  },
  {
   "cell_type": "markdown",
   "metadata": {},
   "source": [
    "## Model Training\n",
    "\n",
    "Now we will train our `IsolationForest` model. Key points about the setup:\n",
    "\n",
    "- **Unsupervised Nature**: `IsolationForest` is an unsupervised algorithm. This means we train it *only* on our feature matrix `X`. We do not show it the `y_true` labels during training. It learns the \"shape\" of normal data on its own.\n",
    "- **`contamination`**: This is the most important hyperparameter. It tells the model the proportion of outliers it should expect in the dataset. Since we are in the unique position of having labels, we can set this value to the true proportion of anomalies in our data (`number of anomalies / total data points`). This gives our model a significant advantage.\n",
    "- **`random_state`**: We set a `random_state` to ensure that the results are reproducible. Anyone running this notebook will get the exact same model output."
   ]
  },
  {
   "cell_type": "code",
   "execution_count": 5,
   "metadata": {},
   "outputs": [
    {
     "name": "stdout",
     "output_type": "stream",
     "text": [
      "Calculated contamination rate: 0.000496\n",
      "\n",
      "Training the Isolation Forest model...\n",
      "Model training complete.\n"
     ]
    }
   ],
   "source": [
    "contamination_rate = y_true.sum() / len(y_true)\n",
    "print(f\"Calculated contamination rate: {contamination_rate:.6f}\") \n",
    "\n",
    "# Initialize the IsolationForest model\n",
    "\n",
    "model = IsolationForest(\n",
    "    n_estimators=100,\n",
    "    contamination=contamination_rate,\n",
    "    random_state=42\n",
    ")\n",
    "\n",
    "# Train the model on our feature matrix X\n",
    "print(\"\\nTraining the Isolation Forest model...\")\n",
    "model.fit(X)\n",
    "print(\"Model training complete.\")"
   ]
  },
  {
   "cell_type": "markdown",
   "metadata": {},
   "source": [
    "## Prediction and Evaluation\n",
    "\n",
    "With our model now trained, we can use it to predict which data points are anomalies. The `IsolationForest` model provides a `predict()` method that returns:\n",
    "- `1` for normal data points (inliers).\n",
    "- `-1` for anomalous data points (outliers).\n",
    "\n",
    "We will add these predictions to our DataFrame and then compare them against our `y_true` (the ground truth labels) to evaluate the model's performance. For easier comparison, we will map the model's output (`1` -> `0` for normal, `-1` -> `1` for anomaly) to match our `is_anomaly` column's format."
   ]
  },
  {
   "cell_type": "code",
   "execution_count": 6,
   "metadata": {},
   "outputs": [
    {
     "name": "stdout",
     "output_type": "stream",
     "text": [
      "Predictions have been generated.\n",
      "\n",
      "Counts of predicted labels:\n",
      "predicted_anomaly\n",
      "0    4031\n",
      "1       1\n",
      "Name: count, dtype: int64\n"
     ]
    },
    {
     "data": {
      "text/html": [
       "<div>\n",
       "<style scoped>\n",
       "    .dataframe tbody tr th:only-of-type {\n",
       "        vertical-align: middle;\n",
       "    }\n",
       "\n",
       "    .dataframe tbody tr th {\n",
       "        vertical-align: top;\n",
       "    }\n",
       "\n",
       "    .dataframe thead th {\n",
       "        text-align: right;\n",
       "    }\n",
       "</style>\n",
       "<table border=\"1\" class=\"dataframe\">\n",
       "  <thead>\n",
       "    <tr style=\"text-align: right;\">\n",
       "      <th></th>\n",
       "      <th>value</th>\n",
       "      <th>is_anomaly</th>\n",
       "      <th>predicted_anomaly_raw</th>\n",
       "      <th>predicted_anomaly</th>\n",
       "    </tr>\n",
       "    <tr>\n",
       "      <th>timestamp</th>\n",
       "      <th></th>\n",
       "      <th></th>\n",
       "      <th></th>\n",
       "      <th></th>\n",
       "    </tr>\n",
       "  </thead>\n",
       "  <tbody>\n",
       "    <tr>\n",
       "      <th>2014-02-26 22:05:00</th>\n",
       "      <td>2.344</td>\n",
       "      <td>1</td>\n",
       "      <td>-1</td>\n",
       "      <td>1</td>\n",
       "    </tr>\n",
       "    <tr>\n",
       "      <th>2014-02-27 17:15:00</th>\n",
       "      <td>0.602</td>\n",
       "      <td>1</td>\n",
       "      <td>1</td>\n",
       "      <td>0</td>\n",
       "    </tr>\n",
       "  </tbody>\n",
       "</table>\n",
       "</div>"
      ],
      "text/plain": [
       "                     value  is_anomaly  predicted_anomaly_raw  \\\n",
       "timestamp                                                       \n",
       "2014-02-26 22:05:00  2.344           1                     -1   \n",
       "2014-02-27 17:15:00  0.602           1                      1   \n",
       "\n",
       "                     predicted_anomaly  \n",
       "timestamp                               \n",
       "2014-02-26 22:05:00                  1  \n",
       "2014-02-27 17:15:00                  0  "
      ]
     },
     "metadata": {},
     "output_type": "display_data"
    }
   ],
   "source": [
    "predictions = model.predict(X)\n",
    "\n",
    "\n",
    "df['predicted_anomaly_raw'] = predictions\n",
    "\n",
    "# Map the predictions to our 0/1 format for evaluation\n",
    "# Normal (1) becomes 0, Anomaly (-1) becomes 1\n",
    "df['predicted_anomaly'] = df['predicted_anomaly_raw'].map({1: 0, -1: 1})\n",
    "\n",
    "print(\"Predictions have been generated.\")\n",
    "print(\"\\nCounts of predicted labels:\")\n",
    "print(df['predicted_anomaly'].value_counts())\n",
    "\n",
    "display(df[(df['is_anomaly'] == 1) | (df['predicted_anomaly'] == 1)])"
   ]
  },
  {
   "cell_type": "markdown",
   "metadata": {},
   "source": [
    "### Performance Metrics\n",
    "\n",
    "Now we will formally evaluate the model's performance using two standard methods from scikit-learn:\n",
    "\n",
    "1.  **Classification Report**: This provides key metrics like precision, recall, and f1-score for each class.\n",
    "    - **Precision**: Of all the points the model *predicted* as anomalies, how many were *actually* anomalies?\n",
    "    - **Recall**: Of all the *actual* anomalies, how many did the model *find*?\n",
    "    - **F1-Score**: The harmonic mean of precision and recall, a great single metric for overall performance.\n",
    "\n",
    "2.  **Confusion Matrix**: This gives us a visual breakdown of the model's predictions versus the actual labels, showing True Positives, True Negatives, False Positives, and False Negatives."
   ]
  },
  {
   "cell_type": "code",
   "execution_count": 7,
   "metadata": {},
   "outputs": [
    {
     "name": "stdout",
     "output_type": "stream",
     "text": [
      "--- Classification Report ---\n",
      "              precision    recall  f1-score   support\n",
      "\n",
      "           0       1.00      1.00      1.00      4030\n",
      "           1       1.00      0.50      0.67         2\n",
      "\n",
      "    accuracy                           1.00      4032\n",
      "   macro avg       1.00      0.75      0.83      4032\n",
      "weighted avg       1.00      1.00      1.00      4032\n",
      "\n",
      "\n",
      "--- Confusion Matrix ---\n"
     ]
    },
    {
     "data": {
      "image/png": "[encoded data removed]",
      "text/plain": [
       "<Figure size 1800x600 with 2 Axes>"
      ]
     },
     "metadata": {},
     "output_type": "display_data"
    }
   ],
   "source": [
    "y_predicted = df['predicted_anomaly']\n",
    "\n",
    "print(\"--- Classification Report ---\")\n",
    "print(classification_report(y_true, y_predicted))\n",
    "\n",
    "print(\"\\n--- Confusion Matrix ---\")\n",
    "cm = confusion_matrix(y_true, y_predicted)\n",
    "disp = ConfusionMatrixDisplay(confusion_matrix=cm)\n",
    "disp.plot()\n",
    "plt.show()"
   ]
  },
  {
   "cell_type": "markdown",
   "metadata": {},
   "source": [
    "### Results Analysis and Interpretation\n",
    "\n",
    "The evaluation metrics provide a clear picture of our baseline model's performance.\n",
    "\n",
    "* **Precision (1.00):** The model has a perfect precision score for the anomaly class. This means that every single data point it flagged as an anomaly was, in fact, a true anomaly. It generated **zero False Positives**, which is an excellent result.\n",
    "\n",
    "* **Recall (0.50):** The model's recall for the anomaly class is 0.50. This is the main area for improvement. It indicates that the model successfully identified only half (1 out of 2) of the true anomalies present in the dataset. The other true anomaly was misclassified as normal (a **False Negative**).\n",
    "\n",
    "**Conclusion:** Our baseline `IsolationForest` model is highly **conservative** or **cautious**. When it raises an alarm, we can be very confident it's a real issue. However, its low sensitivity means it is prone to missing some anomalies.\n",
    "\n",
    "For now, this baseline is sufficient. The immediate next step is to **serialize (save) this trained model** so it can be deployed."
   ]
  },
  {
   "cell_type": "markdown",
   "metadata": {},
   "source": [
    "## Model Serialization\n",
    "\n",
    "The final step is to save our trained model to a file. This process, called serialization, allows us to load the model later for inference without needing to retrain it. We will use `joblib`, which is efficient for saving scikit-learn models."
   ]
  },
  {
   "cell_type": "code",
   "execution_count": 8,
   "metadata": {},
   "outputs": [
    {
     "name": "stdout",
     "output_type": "stream",
     "text": [
      "Model saved successfully to: ..\\models\\isolation_forest_baseline_v1.joblib\n"
     ]
    }
   ],
   "source": [
    "model_filename = \"isolation_forest_baseline_v1.joblib\"\n",
    "model_path = os.path.join(MODELS_DIR, model_filename)\n",
    "\n",
    "joblib.dump(model, model_path)\n",
    "\n",
    "print(f\"Model saved successfully to: {model_path}\")"
   ]
  }
 ],
 "metadata": {
  "kernelspec": {
   "display_name": "venv",
   "language": "python",
   "name": "python3"
  },
  "language_info": {
   "codemirror_mode": {
    "name": "ipython",
    "version": 3
   },
   "file_extension": ".py",
   "mimetype": "text/x-python",
   "name": "python",
   "nbconvert_exporter": "python",
   "pygments_lexer": "ipython3",
   "version": "3.10.7"
  }
 },
 "nbformat": 4,
 "nbformat_minor": 2
}
